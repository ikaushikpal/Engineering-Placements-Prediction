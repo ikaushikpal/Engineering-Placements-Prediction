{
 "cells": [
  {
   "cell_type": "markdown",
   "metadata": {
    "id": "JqnqH8RlDAV5"
   },
   "source": [
    "Let's say someone is in First or Second year and determining how much they should study for a good cgpa or not getting backlog or moreover to get placed. One aspect can be if any individual is havn't done any inernship then should they require internship or not.\n",
    "\n",
    "kaggle dataset [link](https://www.kaggle.com/tejashvi14/engineering-placements-prediction)\n"
   ]
  },
  {
   "cell_type": "markdown",
   "metadata": {
    "id": "Bpc8YTZuFS66"
   },
   "source": [
    "## Details about dataset\n",
    "\n",
    "**Age**: \n",
    "```Age At The Time Of Final Year```\n",
    "\n",
    "\n",
    "**Gender**: \n",
    "```Gender Of Candidate, Male or Female```\n",
    "\n",
    "**Stream**\n",
    "```Engineering Stream That The Candidate Belongs To```\n",
    "\n",
    "```Computer Science, Information Technology, Mechanical,Electronics And Communication, Electrical, Civil```\n",
    "\n",
    "\n",
    "**CGPA**:\n",
    "```CGPA Till 6th Semester, Average of 6 sem's cgpa, min 0 and max 10```\n",
    "\n",
    "**Hostel**\n",
    "```Whether Student Lives In College Accomodation, 1->Yes and 0->No```\n",
    "\n",
    "**HistoryOfBacklogs**\n",
    "```Whether Student Ever Had Any Backlogs In Any Subjects, 1->Yes and 0->No```\n",
    "\n",
    "**PlacedOrNot**\n",
    "```Target Variable, 1->Yes and 0->No```\n"
   ]
  },
  {
   "cell_type": "markdown",
   "metadata": {
    "id": "guEZCMnfEBZC"
   },
   "source": [
    "# 👨🏻‍💻 All the Lifecycle In A Data Science Projects\n",
    "1. 🔥 Exploratory Data Analysis(EDA))\n",
    "2. 📈 Feature Engineering\n",
    "3. 📝 Feature Selection\n",
    "4. 🤖 Model Building and Evaluation\n",
    "5. 🎊 Deployment"
   ]
  },
  {
   "cell_type": "markdown",
   "metadata": {
    "id": "JV2eKPQ7NZf1"
   },
   "source": [
    "### 📥 Importing libraries"
   ]
  },
  {
   "cell_type": "code",
   "execution_count": 1,
   "metadata": {
    "id": "KxIdghcdCMhQ"
   },
   "outputs": [],
   "source": [
    "import pandas as pd\n",
    "import numpy as np\n",
    "from matplotlib import pyplot as plt\n",
    "import seaborn as sns\n",
    "from statsmodels.stats.outliers_influence import variance_inflation_factor\n",
    "import scipy.stats as stat\n",
    "import pylab \n",
    "from sklearn.model_selection import train_test_split\n",
    "import xgboost as xgb\n",
    "from sklearn.metrics import classification_report, confusion_matrix, plot_confusion_matrix, roc_auc_score\n",
    "from sklearn.model_selection import GridSearchCV, KFold \n",
    "from sklearn.metrics import roc_auc_score\n",
    "import joblib\n",
    "\n",
    "%matplotlib inline"
   ]
  },
  {
   "cell_type": "code",
   "execution_count": 2,
   "metadata": {
    "colab": {
     "base_uri": "https://localhost:8080/",
     "height": 204
    },
    "id": "yCwoD2x9EsNh",
    "outputId": "c6a9855e-217a-4bd2-eb8d-140c0673ff12"
   },
   "outputs": [
    {
     "data": {
      "text/html": [
       "<div>\n",
       "<style scoped>\n",
       "    .dataframe tbody tr th:only-of-type {\n",
       "        vertical-align: middle;\n",
       "    }\n",
       "\n",
       "    .dataframe tbody tr th {\n",
       "        vertical-align: top;\n",
       "    }\n",
       "\n",
       "    .dataframe thead th {\n",
       "        text-align: right;\n",
       "    }\n",
       "</style>\n",
       "<table border=\"1\" class=\"dataframe\">\n",
       "  <thead>\n",
       "    <tr style=\"text-align: right;\">\n",
       "      <th></th>\n",
       "      <th>Age</th>\n",
       "      <th>Gender</th>\n",
       "      <th>Stream</th>\n",
       "      <th>Internships</th>\n",
       "      <th>CGPA</th>\n",
       "      <th>Hostel</th>\n",
       "      <th>HistoryOfBacklogs</th>\n",
       "      <th>PlacedOrNot</th>\n",
       "    </tr>\n",
       "  </thead>\n",
       "  <tbody>\n",
       "    <tr>\n",
       "      <th>0</th>\n",
       "      <td>22</td>\n",
       "      <td>Male</td>\n",
       "      <td>Electronics And Communication</td>\n",
       "      <td>1</td>\n",
       "      <td>8</td>\n",
       "      <td>1</td>\n",
       "      <td>1</td>\n",
       "      <td>1</td>\n",
       "    </tr>\n",
       "    <tr>\n",
       "      <th>1</th>\n",
       "      <td>21</td>\n",
       "      <td>Female</td>\n",
       "      <td>Computer Science</td>\n",
       "      <td>0</td>\n",
       "      <td>7</td>\n",
       "      <td>1</td>\n",
       "      <td>1</td>\n",
       "      <td>1</td>\n",
       "    </tr>\n",
       "    <tr>\n",
       "      <th>2</th>\n",
       "      <td>22</td>\n",
       "      <td>Female</td>\n",
       "      <td>Information Technology</td>\n",
       "      <td>1</td>\n",
       "      <td>6</td>\n",
       "      <td>0</td>\n",
       "      <td>0</td>\n",
       "      <td>1</td>\n",
       "    </tr>\n",
       "    <tr>\n",
       "      <th>3</th>\n",
       "      <td>21</td>\n",
       "      <td>Male</td>\n",
       "      <td>Information Technology</td>\n",
       "      <td>0</td>\n",
       "      <td>8</td>\n",
       "      <td>0</td>\n",
       "      <td>1</td>\n",
       "      <td>1</td>\n",
       "    </tr>\n",
       "    <tr>\n",
       "      <th>4</th>\n",
       "      <td>22</td>\n",
       "      <td>Male</td>\n",
       "      <td>Mechanical</td>\n",
       "      <td>0</td>\n",
       "      <td>8</td>\n",
       "      <td>1</td>\n",
       "      <td>0</td>\n",
       "      <td>1</td>\n",
       "    </tr>\n",
       "  </tbody>\n",
       "</table>\n",
       "</div>"
      ],
      "text/plain": [
       "   Age  Gender                         Stream  Internships  CGPA  Hostel  \\\n",
       "0   22    Male  Electronics And Communication            1     8       1   \n",
       "1   21  Female               Computer Science            0     7       1   \n",
       "2   22  Female         Information Technology            1     6       0   \n",
       "3   21    Male         Information Technology            0     8       0   \n",
       "4   22    Male                     Mechanical            0     8       1   \n",
       "\n",
       "   HistoryOfBacklogs  PlacedOrNot  \n",
       "0                  1            1  \n",
       "1                  1            1  \n",
       "2                  0            1  \n",
       "3                  1            1  \n",
       "4                  0            1  "
      ]
     },
     "execution_count": 2,
     "metadata": {},
     "output_type": "execute_result"
    }
   ],
   "source": [
    "df = pd.read_csv(\"data/collegePlace.csv\")\n",
    "df.head()"
   ]
  },
  {
   "cell_type": "markdown",
   "metadata": {
    "id": "H-rNOnE6S7WB"
   },
   "source": [
    "### 📝Metadeta about dataset"
   ]
  },
  {
   "cell_type": "code",
   "execution_count": 3,
   "metadata": {
    "colab": {
     "base_uri": "https://localhost:8080/"
    },
    "id": "E21oIAB6Oo3J",
    "outputId": "351d3a4c-bc9b-494f-94bf-10a4f3974e8b"
   },
   "outputs": [
    {
     "name": "stdout",
     "output_type": "stream",
     "text": [
      "dataset contains 2966 rows and 8\n"
     ]
    }
   ],
   "source": [
    "print(f\"dataset contains {df.shape[0]} rows and {df.shape[1]}\")"
   ]
  },
  {
   "cell_type": "code",
   "execution_count": 4,
   "metadata": {
    "colab": {
     "base_uri": "https://localhost:8080/",
     "height": 297
    },
    "id": "hbhzC1_cEsjZ",
    "outputId": "aa947887-82e1-492a-d538-351f1cb803a9"
   },
   "outputs": [
    {
     "data": {
      "text/html": [
       "<div>\n",
       "<style scoped>\n",
       "    .dataframe tbody tr th:only-of-type {\n",
       "        vertical-align: middle;\n",
       "    }\n",
       "\n",
       "    .dataframe tbody tr th {\n",
       "        vertical-align: top;\n",
       "    }\n",
       "\n",
       "    .dataframe thead th {\n",
       "        text-align: right;\n",
       "    }\n",
       "</style>\n",
       "<table border=\"1\" class=\"dataframe\">\n",
       "  <thead>\n",
       "    <tr style=\"text-align: right;\">\n",
       "      <th></th>\n",
       "      <th>Age</th>\n",
       "      <th>Internships</th>\n",
       "      <th>CGPA</th>\n",
       "      <th>Hostel</th>\n",
       "      <th>HistoryOfBacklogs</th>\n",
       "      <th>PlacedOrNot</th>\n",
       "    </tr>\n",
       "  </thead>\n",
       "  <tbody>\n",
       "    <tr>\n",
       "      <th>count</th>\n",
       "      <td>2966.000000</td>\n",
       "      <td>2966.000000</td>\n",
       "      <td>2966.000000</td>\n",
       "      <td>2966.000000</td>\n",
       "      <td>2966.000000</td>\n",
       "      <td>2966.000000</td>\n",
       "    </tr>\n",
       "    <tr>\n",
       "      <th>mean</th>\n",
       "      <td>21.485840</td>\n",
       "      <td>0.703641</td>\n",
       "      <td>7.073837</td>\n",
       "      <td>0.269049</td>\n",
       "      <td>0.192178</td>\n",
       "      <td>0.552596</td>\n",
       "    </tr>\n",
       "    <tr>\n",
       "      <th>std</th>\n",
       "      <td>1.324933</td>\n",
       "      <td>0.740197</td>\n",
       "      <td>0.967748</td>\n",
       "      <td>0.443540</td>\n",
       "      <td>0.394079</td>\n",
       "      <td>0.497310</td>\n",
       "    </tr>\n",
       "    <tr>\n",
       "      <th>min</th>\n",
       "      <td>19.000000</td>\n",
       "      <td>0.000000</td>\n",
       "      <td>5.000000</td>\n",
       "      <td>0.000000</td>\n",
       "      <td>0.000000</td>\n",
       "      <td>0.000000</td>\n",
       "    </tr>\n",
       "    <tr>\n",
       "      <th>25%</th>\n",
       "      <td>21.000000</td>\n",
       "      <td>0.000000</td>\n",
       "      <td>6.000000</td>\n",
       "      <td>0.000000</td>\n",
       "      <td>0.000000</td>\n",
       "      <td>0.000000</td>\n",
       "    </tr>\n",
       "    <tr>\n",
       "      <th>50%</th>\n",
       "      <td>21.000000</td>\n",
       "      <td>1.000000</td>\n",
       "      <td>7.000000</td>\n",
       "      <td>0.000000</td>\n",
       "      <td>0.000000</td>\n",
       "      <td>1.000000</td>\n",
       "    </tr>\n",
       "    <tr>\n",
       "      <th>75%</th>\n",
       "      <td>22.000000</td>\n",
       "      <td>1.000000</td>\n",
       "      <td>8.000000</td>\n",
       "      <td>1.000000</td>\n",
       "      <td>0.000000</td>\n",
       "      <td>1.000000</td>\n",
       "    </tr>\n",
       "    <tr>\n",
       "      <th>max</th>\n",
       "      <td>30.000000</td>\n",
       "      <td>3.000000</td>\n",
       "      <td>9.000000</td>\n",
       "      <td>1.000000</td>\n",
       "      <td>1.000000</td>\n",
       "      <td>1.000000</td>\n",
       "    </tr>\n",
       "  </tbody>\n",
       "</table>\n",
       "</div>"
      ],
      "text/plain": [
       "               Age  Internships         CGPA       Hostel  HistoryOfBacklogs  \\\n",
       "count  2966.000000  2966.000000  2966.000000  2966.000000        2966.000000   \n",
       "mean     21.485840     0.703641     7.073837     0.269049           0.192178   \n",
       "std       1.324933     0.740197     0.967748     0.443540           0.394079   \n",
       "min      19.000000     0.000000     5.000000     0.000000           0.000000   \n",
       "25%      21.000000     0.000000     6.000000     0.000000           0.000000   \n",
       "50%      21.000000     1.000000     7.000000     0.000000           0.000000   \n",
       "75%      22.000000     1.000000     8.000000     1.000000           0.000000   \n",
       "max      30.000000     3.000000     9.000000     1.000000           1.000000   \n",
       "\n",
       "       PlacedOrNot  \n",
       "count  2966.000000  \n",
       "mean      0.552596  \n",
       "std       0.497310  \n",
       "min       0.000000  \n",
       "25%       0.000000  \n",
       "50%       1.000000  \n",
       "75%       1.000000  \n",
       "max       1.000000  "
      ]
     },
     "execution_count": 4,
     "metadata": {},
     "output_type": "execute_result"
    }
   ],
   "source": [
    "df.describe()"
   ]
  },
  {
   "cell_type": "markdown",
   "metadata": {
    "id": "zA2L6Sc7SS2e"
   },
   "source": [
    "##### Datatypes of each columns"
   ]
  },
  {
   "cell_type": "code",
   "execution_count": 5,
   "metadata": {
    "colab": {
     "base_uri": "https://localhost:8080/"
    },
    "id": "RfcoY2gUOglB",
    "outputId": "2739ec7d-91d5-467a-cf18-15adee9d772a"
   },
   "outputs": [
    {
     "data": {
      "text/plain": [
       "Age                   int64\n",
       "Gender               object\n",
       "Stream               object\n",
       "Internships           int64\n",
       "CGPA                  int64\n",
       "Hostel                int64\n",
       "HistoryOfBacklogs     int64\n",
       "PlacedOrNot           int64\n",
       "dtype: object"
      ]
     },
     "execution_count": 5,
     "metadata": {},
     "output_type": "execute_result"
    }
   ],
   "source": [
    "df.dtypes"
   ]
  },
  {
   "cell_type": "markdown",
   "metadata": {
    "id": "9azEpwu3M5lA"
   },
   "source": [
    "## 🔥 Exploratory Data Analysis(EDA)¶\n",
    "In Exploratory Data Analysis We will Analyze To Find out the below stuff\n",
    "\n",
    "✔️ Missing Values\n",
    "\n",
    "✔️ All The Numerical Variables\n",
    "\n",
    "✔️ Distribution of the Numerical Variables\n",
    "\n",
    "✔️ Categorical Variables\n",
    "\n",
    "✔️ Cardinality of Categorical Variables\n",
    "\n",
    "✔️ Finding outliers\n",
    "\n",
    "✔️ Relationship between independent and dependent feature\n",
    "\n"
   ]
  },
  {
   "cell_type": "markdown",
   "metadata": {
    "id": "xiSPxyFQDg_Y"
   },
   "source": [
    "### Missing Values"
   ]
  },
  {
   "cell_type": "code",
   "execution_count": 6,
   "metadata": {
    "colab": {
     "base_uri": "https://localhost:8080/"
    },
    "id": "QS5QtVGrD51o",
    "outputId": "a8bb2903-8138-4394-f943-19a3b9e4ba79"
   },
   "outputs": [
    {
     "data": {
      "text/plain": [
       "Age                  0\n",
       "Gender               0\n",
       "Stream               0\n",
       "Internships          0\n",
       "CGPA                 0\n",
       "Hostel               0\n",
       "HistoryOfBacklogs    0\n",
       "PlacedOrNot          0\n",
       "dtype: int64"
      ]
     },
     "execution_count": 6,
     "metadata": {},
     "output_type": "execute_result"
    }
   ],
   "source": [
    "missing_num = df[df.columns].isna().sum().sort_values(ascending=False)\n",
    "\n",
    "# total missing values in data frame\n",
    "missing_num"
   ]
  },
  {
   "cell_type": "markdown",
   "metadata": {
    "id": "9nZMdWt2rIhy"
   },
   "source": [
    "Since there are no missing values , this data frame is pretty much clean. So we don't need to deal with missing values in Feature Engineering section"
   ]
  },
  {
   "cell_type": "markdown",
   "metadata": {
    "id": "TBtdX4Ior6R8"
   },
   "source": [
    "### Numerical and Categorical features/ Variables"
   ]
  },
  {
   "cell_type": "code",
   "execution_count": 7,
   "metadata": {
    "id": "ULij3pOwD59Z"
   },
   "outputs": [],
   "source": [
    "numerical_cols = [col for col in df.columns if df[col].dtype!='O']\n",
    "categorical_cols = [col for col in df.columns if df[col].dtype=='O']"
   ]
  },
  {
   "cell_type": "code",
   "execution_count": 8,
   "metadata": {
    "colab": {
     "base_uri": "https://localhost:8080/"
    },
    "id": "Oa0teOr_ZSum",
    "outputId": "68747aed-7d51-4afb-eb3c-f833c6425b4b"
   },
   "outputs": [
    {
     "name": "stdout",
     "output_type": "stream",
     "text": [
      "Numberical columns are = ['Age', 'Internships', 'CGPA', 'Hostel', 'HistoryOfBacklogs', 'PlacedOrNot']\n",
      "Categorical columns are = ['Gender', 'Stream']\n"
     ]
    }
   ],
   "source": [
    "print(f\"Numberical columns are = {numerical_cols}\")\n",
    "print(f\"Categorical columns are = {categorical_cols}\")"
   ]
  },
  {
   "cell_type": "code",
   "execution_count": 9,
   "metadata": {
    "id": "lv933vtfZWQ2"
   },
   "outputs": [],
   "source": [
    "continuous_cols = [col for col in numerical_cols if df[col].nunique() >= 25]\n",
    "discrete_cols = [col for col in numerical_cols if df[col].nunique() < 25]"
   ]
  },
  {
   "cell_type": "code",
   "execution_count": 10,
   "metadata": {
    "colab": {
     "base_uri": "https://localhost:8080/"
    },
    "id": "WIgXjOjOZWVn",
    "outputId": "a2b58e00-eb5c-4199-eb86-959aadff6879"
   },
   "outputs": [
    {
     "name": "stdout",
     "output_type": "stream",
     "text": [
      "Continuous values features are = []\n",
      "Discrete values feature is = ['Age', 'Internships', 'CGPA', 'Hostel', 'HistoryOfBacklogs', 'PlacedOrNot']\n"
     ]
    }
   ],
   "source": [
    "print(f\"Continuous values features are = {continuous_cols}\")\n",
    "print(f\"Discrete values feature is = {discrete_cols}\")"
   ]
  },
  {
   "cell_type": "markdown",
   "metadata": {
    "id": "I_BrCfy9wfOw"
   },
   "source": [
    "*There are two types of Numerical variables :*\n",
    " * Discrete Variables\n",
    " * Continuous Variable\n",
    "\n",
    "*But in this data frame all the feature comes in Discrete Variables beacause there are less than 25 unique values in numerical features. So we we put all togather in Numerical feature*\n"
   ]
  },
  {
   "cell_type": "markdown",
   "metadata": {
    "id": "Rl9K4BkwZ4RE"
   },
   "source": [
    " ### Distribution of the Numerical Variables\n"
   ]
  },
  {
   "cell_type": "code",
   "execution_count": 11,
   "metadata": {
    "colab": {
     "base_uri": "https://localhost:8080/",
     "height": 532
    },
    "id": "Hw0-HI5snSaE",
    "outputId": "4493a085-292a-4630-b691-258d076fe023"
   },
   "outputs": [
    {
     "data": {
      "image/png": "[encoded data removed]",
      "text/plain": [
       "<Figure size 864x1008 with 6 Axes>"
      ]
     },
     "metadata": {
      "needs_background": "light"
     },
     "output_type": "display_data"
    }
   ],
   "source": [
    "plt.figure(figsize=(12, 14))\n",
    "\n",
    "for (i, col) in enumerate(discrete_cols,1):\n",
    "    plt.subplot(6, 2, i)\n",
    "    sns.histplot(df[col], bins=25)\n",
    "\n",
    "plt.tight_layout()\n",
    "plt.show()"
   ]
  },
  {
   "cell_type": "markdown",
   "metadata": {
    "id": "ZHXDUBihn0vN"
   },
   "source": []
  },
  {
   "cell_type": "code",
   "execution_count": 12,
   "metadata": {
    "colab": {
     "base_uri": "https://localhost:8080/",
     "height": 447
    },
    "id": "zwWUseNcnmoZ",
    "outputId": "db8019ef-8060-47db-a805-c40e086de764"
   },
   "outputs": [
    {
     "data": {
      "image/png": "[encoded data removed]",
      "text/plain": [
       "<Figure size 1296x1152 with 5 Axes>"
      ]
     },
     "metadata": {
      "needs_background": "light"
     },
     "output_type": "display_data"
    }
   ],
   "source": [
    "plt.figure(figsize=(18, 16))\n",
    "\n",
    "for (i, col) in enumerate(numerical_cols[:-1],1):\n",
    "    plt.subplot(6, 2, i)\n",
    "    sns.histplot(x=df[col], kde=True)\n",
    "\n",
    "plt.tight_layout()\n",
    "plt.show()"
   ]
  },
  {
   "cell_type": "markdown",
   "metadata": {
    "id": "h9dWP0PBn1cB"
   },
   "source": []
  },
  {
   "cell_type": "markdown",
   "metadata": {
    "id": "Gz_-DMSlaR_q"
   },
   "source": [
    "### Categorical Variables\n",
    "\n",
    "The dataset contains only two categorical features Gender and Stream."
   ]
  },
  {
   "cell_type": "code",
   "execution_count": 13,
   "metadata": {
    "colab": {
     "base_uri": "https://localhost:8080/",
     "height": 405
    },
    "id": "FoHy0KzkaRwR",
    "outputId": "4fce12c9-e7aa-4a1b-edd9-7ca9e7f2827b"
   },
   "outputs": [
    {
     "data": {
      "text/plain": [
       "<AxesSubplot:xlabel='count', ylabel='Gender'>"
      ]
     },
     "execution_count": 13,
     "metadata": {},
     "output_type": "execute_result"
    },
    {
     "data": {
      "image/png": "[encoded data removed]",
      "text/plain": [
       "<Figure size 720x432 with 1 Axes>"
      ]
     },
     "metadata": {
      "needs_background": "light"
     },
     "output_type": "display_data"
    }
   ],
   "source": [
    "plt.figure(figsize=(10, 6))\n",
    "\n",
    "sns.countplot(y = df['Gender'])"
   ]
  },
  {
   "cell_type": "markdown",
   "metadata": {
    "id": "MM3lSqhJa5Nu"
   },
   "source": [
    "Here we can see that Number of male students are much much heigher than female students."
   ]
  },
  {
   "cell_type": "code",
   "execution_count": 14,
   "metadata": {
    "colab": {
     "base_uri": "https://localhost:8080/",
     "height": 405
    },
    "id": "TVi97ubPaoL4",
    "outputId": "ecfc0910-7913-466b-c53f-edd4d9271d38"
   },
   "outputs": [
    {
     "data": {
      "text/plain": [
       "<AxesSubplot:xlabel='count', ylabel='Stream'>"
      ]
     },
     "execution_count": 14,
     "metadata": {},
     "output_type": "execute_result"
    },
    {
     "data": {
      "image/png": "[encoded data removed]",
      "text/plain": [
       "<Figure size 720x432 with 1 Axes>"
      ]
     },
     "metadata": {
      "needs_background": "light"
     },
     "output_type": "display_data"
    }
   ],
   "source": [
    "plt.figure(figsize=(10, 6))\n",
    "\n",
    "sns.countplot(y = df['Stream'])"
   ]
  },
  {
   "cell_type": "markdown",
   "metadata": {
    "id": "8FgkG8ABa6Ry"
   },
   "source": [
    "Here we can see that Computer Science stream is most popular among students"
   ]
  },
  {
   "cell_type": "markdown",
   "metadata": {
    "id": "745ySt4WbQ0g"
   },
   "source": [
    "### outliers"
   ]
  },
  {
   "cell_type": "code",
   "execution_count": 15,
   "metadata": {
    "colab": {
     "base_uri": "https://localhost:8080/",
     "height": 441
    },
    "id": "gg3EQZPYaoJx",
    "outputId": "8eb29ff2-760d-447b-afa8-f89559a52b3a"
   },
   "outputs": [
    {
     "data": {
      "image/png": "[encoded data removed]",
      "text/plain": [
       "<Figure size 1008x576 with 6 Axes>"
      ]
     },
     "metadata": {
      "needs_background": "light"
     },
     "output_type": "display_data"
    }
   ],
   "source": [
    "plt.figure(figsize=(14, 8))\n",
    "\n",
    "count = 1\n",
    "for col in numerical_cols:\n",
    "    plt.subplot(4, 2, count)\n",
    "    sns.boxplot(x=df[col])\n",
    "    count += 1\n",
    "\n",
    "plt.tight_layout()\n",
    "plt.show()"
   ]
  },
  {
   "cell_type": "markdown",
   "metadata": {
    "id": "65gLFuqffWFZ"
   },
   "source": [
    "### Hypothesis"
   ]
  },
  {
   "cell_type": "markdown",
   "metadata": {
    "id": "qsZAxUpmhBaQ"
   },
   "source": [
    "1. Gender Vs placement\n",
    "\n",
    "\n",
    "___\n",
    "Here we will view the realtionship between gender and placement, whether being male or female can change their placement possibility or not.\n",
    "\n",
    "In reality it should not show any kind of difference because of gender-eqality"
   ]
  },
  {
   "cell_type": "code",
   "execution_count": 32,
   "metadata": {
    "colab": {
     "base_uri": "https://localhost:8080/",
     "height": 405
    },
    "id": "Z8c0fCwseItG",
    "outputId": "92ca2ff4-6f9e-4785-ebec-ff7a1e346838"
   },
   "outputs": [
    {
     "data": {
      "text/plain": [
       "<AxesSubplot:xlabel='Internships', ylabel='count'>"
      ]
     },
     "execution_count": 32,
     "metadata": {},
     "output_type": "execute_result"
    },
    {
     "data": {
      "image/png": "[encoded data removed]",
      "text/plain": [
       "<Figure size 720x432 with 1 Axes>"
      ]
     },
     "metadata": {
      "needs_background": "light"
     },
     "output_type": "display_data"
    }
   ],
   "source": [
    "plt.figure(figsize=(10, 6))\n",
    "sns.countplot(x=df['Internships'].value_counts(),data=df)"
   ]
  },
  {
   "cell_type": "markdown",
   "metadata": {
    "id": "3w992fTmbonw"
   },
   "source": [
    "### checking for multi-colinearity"
   ]
  },
  {
   "cell_type": "code",
   "execution_count": 33,
   "metadata": {
    "colab": {
     "base_uri": "https://localhost:8080/",
     "height": 235
    },
    "id": "OBbxJ3VKaoHm",
    "outputId": "5cf6032b-08f8-44bd-eaa1-603b6b69ebd9"
   },
   "outputs": [
    {
     "data": {
      "text/html": [
       "<div>\n",
       "<style scoped>\n",
       "    .dataframe tbody tr th:only-of-type {\n",
       "        vertical-align: middle;\n",
       "    }\n",
       "\n",
       "    .dataframe tbody tr th {\n",
       "        vertical-align: top;\n",
       "    }\n",
       "\n",
       "    .dataframe thead th {\n",
       "        text-align: right;\n",
       "    }\n",
       "</style>\n",
       "<table border=\"1\" class=\"dataframe\">\n",
       "  <thead>\n",
       "    <tr style=\"text-align: right;\">\n",
       "      <th></th>\n",
       "      <th>Age</th>\n",
       "      <th>Internships</th>\n",
       "      <th>CGPA</th>\n",
       "      <th>Hostel</th>\n",
       "      <th>HistoryOfBacklogs</th>\n",
       "      <th>PlacedOrNot</th>\n",
       "    </tr>\n",
       "  </thead>\n",
       "  <tbody>\n",
       "    <tr>\n",
       "      <th>Age</th>\n",
       "      <td>1.000000</td>\n",
       "      <td>0.006552</td>\n",
       "      <td>-0.119787</td>\n",
       "      <td>0.003042</td>\n",
       "      <td>-0.042586</td>\n",
       "      <td>0.046943</td>\n",
       "    </tr>\n",
       "    <tr>\n",
       "      <th>Internships</th>\n",
       "      <td>0.006552</td>\n",
       "      <td>1.000000</td>\n",
       "      <td>0.023496</td>\n",
       "      <td>0.004617</td>\n",
       "      <td>-0.015118</td>\n",
       "      <td>0.179334</td>\n",
       "    </tr>\n",
       "    <tr>\n",
       "      <th>CGPA</th>\n",
       "      <td>-0.119787</td>\n",
       "      <td>0.023496</td>\n",
       "      <td>1.000000</td>\n",
       "      <td>0.014991</td>\n",
       "      <td>0.002576</td>\n",
       "      <td>0.588648</td>\n",
       "    </tr>\n",
       "    <tr>\n",
       "      <th>Hostel</th>\n",
       "      <td>0.003042</td>\n",
       "      <td>0.004617</td>\n",
       "      <td>0.014991</td>\n",
       "      <td>1.000000</td>\n",
       "      <td>0.103506</td>\n",
       "      <td>-0.038182</td>\n",
       "    </tr>\n",
       "    <tr>\n",
       "      <th>HistoryOfBacklogs</th>\n",
       "      <td>-0.042586</td>\n",
       "      <td>-0.015118</td>\n",
       "      <td>0.002576</td>\n",
       "      <td>0.103506</td>\n",
       "      <td>1.000000</td>\n",
       "      <td>-0.022337</td>\n",
       "    </tr>\n",
       "    <tr>\n",
       "      <th>PlacedOrNot</th>\n",
       "      <td>0.046943</td>\n",
       "      <td>0.179334</td>\n",
       "      <td>0.588648</td>\n",
       "      <td>-0.038182</td>\n",
       "      <td>-0.022337</td>\n",
       "      <td>1.000000</td>\n",
       "    </tr>\n",
       "  </tbody>\n",
       "</table>\n",
       "</div>"
      ],
      "text/plain": [
       "                        Age  Internships      CGPA    Hostel  \\\n",
       "Age                1.000000     0.006552 -0.119787  0.003042   \n",
       "Internships        0.006552     1.000000  0.023496  0.004617   \n",
       "CGPA              -0.119787     0.023496  1.000000  0.014991   \n",
       "Hostel             0.003042     0.004617  0.014991  1.000000   \n",
       "HistoryOfBacklogs -0.042586    -0.015118  0.002576  0.103506   \n",
       "PlacedOrNot        0.046943     0.179334  0.588648 -0.038182   \n",
       "\n",
       "                   HistoryOfBacklogs  PlacedOrNot  \n",
       "Age                        -0.042586     0.046943  \n",
       "Internships                -0.015118     0.179334  \n",
       "CGPA                        0.002576     0.588648  \n",
       "Hostel                      0.103506    -0.038182  \n",
       "HistoryOfBacklogs           1.000000    -0.022337  \n",
       "PlacedOrNot                -0.022337     1.000000  "
      ]
     },
     "execution_count": 33,
     "metadata": {},
     "output_type": "execute_result"
    }
   ],
   "source": [
    "df.corr()"
   ]
  },
  {
   "cell_type": "markdown",
   "metadata": {
    "id": "ca8EGvzcUOjL"
   },
   "source": [
    "### Train Test Split\n",
    "\n",
    "before scaling values i must split it into train and test test to avoid data leakage."
   ]
  },
  {
   "cell_type": "markdown",
   "metadata": {
    "id": "VtOpgQnGWeuq"
   },
   "source": [
    "#### performing categorical encoding(One-Hot encoding)\n",
    "\n",
    "applying one-hot encoding on `'Gender','Stream'` columns"
   ]
  },
  {
   "cell_type": "code",
   "execution_count": 45,
   "metadata": {
    "colab": {
     "base_uri": "https://localhost:8080/",
     "height": 241
    },
    "id": "uFu15PAHWaS2",
    "outputId": "a059d5d0-3084-4dfe-a09c-631fc46e111b"
   },
   "outputs": [
    {
     "data": {
      "text/html": [
       "<div>\n",
       "<style scoped>\n",
       "    .dataframe tbody tr th:only-of-type {\n",
       "        vertical-align: middle;\n",
       "    }\n",
       "\n",
       "    .dataframe tbody tr th {\n",
       "        vertical-align: top;\n",
       "    }\n",
       "\n",
       "    .dataframe thead th {\n",
       "        text-align: right;\n",
       "    }\n",
       "</style>\n",
       "<table border=\"1\" class=\"dataframe\">\n",
       "  <thead>\n",
       "    <tr style=\"text-align: right;\">\n",
       "      <th></th>\n",
       "      <th>Age</th>\n",
       "      <th>Internships</th>\n",
       "      <th>CGPA</th>\n",
       "      <th>Hostel</th>\n",
       "      <th>HistoryOfBacklogs</th>\n",
       "      <th>PlacedOrNot</th>\n",
       "      <th>Gender_Male</th>\n",
       "      <th>Stream_Computer Science</th>\n",
       "      <th>Stream_Electrical</th>\n",
       "      <th>Stream_Electronics And Communication</th>\n",
       "      <th>Stream_Information Technology</th>\n",
       "      <th>Stream_Mechanical</th>\n",
       "    </tr>\n",
       "  </thead>\n",
       "  <tbody>\n",
       "    <tr>\n",
       "      <th>0</th>\n",
       "      <td>22.0</td>\n",
       "      <td>1</td>\n",
       "      <td>8</td>\n",
       "      <td>1</td>\n",
       "      <td>1</td>\n",
       "      <td>1</td>\n",
       "      <td>1</td>\n",
       "      <td>0</td>\n",
       "      <td>0</td>\n",
       "      <td>1</td>\n",
       "      <td>0</td>\n",
       "      <td>0</td>\n",
       "    </tr>\n",
       "    <tr>\n",
       "      <th>1</th>\n",
       "      <td>21.0</td>\n",
       "      <td>0</td>\n",
       "      <td>7</td>\n",
       "      <td>1</td>\n",
       "      <td>1</td>\n",
       "      <td>1</td>\n",
       "      <td>0</td>\n",
       "      <td>1</td>\n",
       "      <td>0</td>\n",
       "      <td>0</td>\n",
       "      <td>0</td>\n",
       "      <td>0</td>\n",
       "    </tr>\n",
       "    <tr>\n",
       "      <th>2</th>\n",
       "      <td>22.0</td>\n",
       "      <td>1</td>\n",
       "      <td>6</td>\n",
       "      <td>0</td>\n",
       "      <td>0</td>\n",
       "      <td>1</td>\n",
       "      <td>0</td>\n",
       "      <td>0</td>\n",
       "      <td>0</td>\n",
       "      <td>0</td>\n",
       "      <td>1</td>\n",
       "      <td>0</td>\n",
       "    </tr>\n",
       "    <tr>\n",
       "      <th>3</th>\n",
       "      <td>21.0</td>\n",
       "      <td>0</td>\n",
       "      <td>8</td>\n",
       "      <td>0</td>\n",
       "      <td>1</td>\n",
       "      <td>1</td>\n",
       "      <td>1</td>\n",
       "      <td>0</td>\n",
       "      <td>0</td>\n",
       "      <td>0</td>\n",
       "      <td>1</td>\n",
       "      <td>0</td>\n",
       "    </tr>\n",
       "    <tr>\n",
       "      <th>4</th>\n",
       "      <td>22.0</td>\n",
       "      <td>0</td>\n",
       "      <td>8</td>\n",
       "      <td>1</td>\n",
       "      <td>0</td>\n",
       "      <td>1</td>\n",
       "      <td>1</td>\n",
       "      <td>0</td>\n",
       "      <td>0</td>\n",
       "      <td>0</td>\n",
       "      <td>0</td>\n",
       "      <td>1</td>\n",
       "    </tr>\n",
       "  </tbody>\n",
       "</table>\n",
       "</div>"
      ],
      "text/plain": [
       "    Age  Internships  CGPA  Hostel  HistoryOfBacklogs  PlacedOrNot  \\\n",
       "0  22.0            1     8       1                  1            1   \n",
       "1  21.0            0     7       1                  1            1   \n",
       "2  22.0            1     6       0                  0            1   \n",
       "3  21.0            0     8       0                  1            1   \n",
       "4  22.0            0     8       1                  0            1   \n",
       "\n",
       "   Gender_Male  Stream_Computer Science  Stream_Electrical  \\\n",
       "0            1                        0                  0   \n",
       "1            0                        1                  0   \n",
       "2            0                        0                  0   \n",
       "3            1                        0                  0   \n",
       "4            1                        0                  0   \n",
       "\n",
       "   Stream_Electronics And Communication  Stream_Information Technology  \\\n",
       "0                                     1                              0   \n",
       "1                                     0                              0   \n",
       "2                                     0                              1   \n",
       "3                                     0                              1   \n",
       "4                                     0                              0   \n",
       "\n",
       "   Stream_Mechanical  \n",
       "0                  0  \n",
       "1                  0  \n",
       "2                  0  \n",
       "3                  0  \n",
       "4                  1  "
      ]
     },
     "execution_count": 45,
     "metadata": {},
     "output_type": "execute_result"
    }
   ],
   "source": [
    "df = pd.get_dummies(df, columns=['Gender','Stream'], drop_first=True)\n",
    "df.head()"
   ]
  },
  {
   "cell_type": "code",
   "execution_count": 46,
   "metadata": {
    "id": "2Wk7K8f6Qs3W"
   },
   "outputs": [],
   "source": [
    "X = df.drop('PlacedOrNot', axis=1)\n",
    "y = df['PlacedOrNot']"
   ]
  },
  {
   "cell_type": "code",
   "execution_count": 47,
   "metadata": {
    "id": "ixXGzUGqQs9B"
   },
   "outputs": [],
   "source": [
    "\n",
    "\n",
    "\n",
    "X_train, X_test, y_train, y_test = train_test_split(X, y, test_size=0.33, random_state=0)"
   ]
  },
  {
   "cell_type": "code",
   "execution_count": 48,
   "metadata": {
    "colab": {
     "base_uri": "https://localhost:8080/"
    },
    "id": "BEc0gBizQtAt",
    "outputId": "1910590d-818a-4163-c834-07029aa3fd23"
   },
   "outputs": [
    {
     "name": "stdout",
     "output_type": "stream",
     "text": [
      "X_train.shape=(1987, 11)\n",
      "X_test.shape=(979, 11)\n",
      "y_train.shape=(1987,)\n",
      "y_test.shape=(979,)\n"
     ]
    }
   ],
   "source": [
    "print(f\"X_train.shape={X_train.shape}\")\n",
    "print(f\"X_test.shape={X_test.shape}\")\n",
    "print(f\"y_train.shape={y_train.shape}\")\n",
    "print(f\"y_test.shape={y_test.shape}\")"
   ]
  },
  {
   "cell_type": "markdown",
   "metadata": {
    "id": "d1IuvhXs5ApK"
   },
   "source": [
    "## Model Building and Evaluation"
   ]
  },
  {
   "cell_type": "code",
   "execution_count": 49,
   "metadata": {
    "id": "CpvsF4Cmqi59"
   },
   "outputs": [],
   "source": [
    "xgb_cl = xgb.XGBClassifier(objective='binary:logistic', seed=0)"
   ]
  },
  {
   "cell_type": "code",
   "execution_count": 50,
   "metadata": {
    "colab": {
     "base_uri": "https://localhost:8080/"
    },
    "id": "PS8cx811qi_L",
    "outputId": "ae702015-c765-49eb-9367-8e20ce2c50e3"
   },
   "outputs": [
    {
     "name": "stdout",
     "output_type": "stream",
     "text": [
      "[0]\tvalidation_0-auc:0.92366\n",
      "[1]\tvalidation_0-auc:0.92877\n",
      "[2]\tvalidation_0-auc:0.92633\n",
      "[3]\tvalidation_0-auc:0.92905\n",
      "[4]\tvalidation_0-auc:0.92909\n",
      "[5]\tvalidation_0-auc:0.93038\n",
      "[6]\tvalidation_0-auc:0.93234\n",
      "[7]\tvalidation_0-auc:0.93618\n",
      "[8]\tvalidation_0-auc:0.93760\n",
      "[9]\tvalidation_0-auc:0.93809\n",
      "[10]\tvalidation_0-auc:0.93824\n",
      "[11]\tvalidation_0-auc:0.93976\n",
      "[12]\tvalidation_0-auc:0.94042\n",
      "[13]\tvalidation_0-auc:0.94040\n",
      "[14]\tvalidation_0-auc:0.94120\n",
      "[15]\tvalidation_0-auc:0.94138\n",
      "[16]\tvalidation_0-auc:0.94169\n",
      "[17]\tvalidation_0-auc:0.94252\n",
      "[18]\tvalidation_0-auc:0.94245\n",
      "[19]\tvalidation_0-auc:0.94270\n",
      "[20]\tvalidation_0-auc:0.94232\n",
      "[21]\tvalidation_0-auc:0.94295\n",
      "[22]\tvalidation_0-auc:0.94276\n",
      "[23]\tvalidation_0-auc:0.94412\n",
      "[24]\tvalidation_0-auc:0.94419\n",
      "[25]\tvalidation_0-auc:0.94452\n",
      "[26]\tvalidation_0-auc:0.94486\n",
      "[27]\tvalidation_0-auc:0.94470\n",
      "[28]\tvalidation_0-auc:0.94471\n",
      "[29]\tvalidation_0-auc:0.94475\n",
      "[30]\tvalidation_0-auc:0.94442\n",
      "[31]\tvalidation_0-auc:0.94445\n",
      "[32]\tvalidation_0-auc:0.94459\n",
      "[33]\tvalidation_0-auc:0.94440\n",
      "[34]\tvalidation_0-auc:0.94411\n",
      "[35]\tvalidation_0-auc:0.94430\n",
      "[36]\tvalidation_0-auc:0.94406\n",
      "[37]\tvalidation_0-auc:0.94394\n",
      "[38]\tvalidation_0-auc:0.94420\n",
      "[39]\tvalidation_0-auc:0.94384\n",
      "[40]\tvalidation_0-auc:0.94408\n",
      "[41]\tvalidation_0-auc:0.94433\n",
      "[42]\tvalidation_0-auc:0.94404\n",
      "[43]\tvalidation_0-auc:0.94424\n",
      "[44]\tvalidation_0-auc:0.94402\n",
      "[45]\tvalidation_0-auc:0.94378\n",
      "[46]\tvalidation_0-auc:0.94361\n"
     ]
    },
    {
     "name": "stderr",
     "output_type": "stream",
     "text": [
      "C:\\Users\\Kaushik Pal\\anaconda3\\lib\\site-packages\\xgboost\\sklearn.py:1146: UserWarning: The use of label encoder in XGBClassifier is deprecated and will be removed in a future release. To remove this warning, do the following: 1) Pass option use_label_encoder=False when constructing XGBClassifier object; and 2) Encode your labels (y) as integers starting with 0, i.e. 0, 1, 2, ..., [num_class - 1].\n",
      "  warnings.warn(label_encoder_deprecation_msg, UserWarning)\n"
     ]
    },
    {
     "data": {
      "text/plain": [
       "XGBClassifier(base_score=0.5, booster='gbtree', colsample_bylevel=1,\n",
       "              colsample_bynode=1, colsample_bytree=1, gamma=0, gpu_id=-1,\n",
       "              importance_type='gain', interaction_constraints='',\n",
       "              learning_rate=0.300000012, max_delta_step=0, max_depth=6,\n",
       "              min_child_weight=1, missing=nan, monotone_constraints='()',\n",
       "              n_estimators=100, n_jobs=4, num_parallel_tree=1, random_state=0,\n",
       "              reg_alpha=0, reg_lambda=1, scale_pos_weight=1, seed=0,\n",
       "              subsample=1, tree_method='exact', validate_parameters=1,\n",
       "              verbosity=None)"
      ]
     },
     "execution_count": 50,
     "metadata": {},
     "output_type": "execute_result"
    }
   ],
   "source": [
    "xgb_cl.fit(X_train, y_train, verbose=True, eval_metric='auc', eval_set=[(X_test, y_test)],\n",
    "           early_stopping_rounds=20)"
   ]
  },
  {
   "cell_type": "code",
   "execution_count": 51,
   "metadata": {
    "id": "bEDVxgVUqjGh"
   },
   "outputs": [],
   "source": [
    "y_pred = xgb_cl.predict(X_test)"
   ]
  },
  {
   "cell_type": "code",
   "execution_count": 52,
   "metadata": {
    "colab": {
     "base_uri": "https://localhost:8080/"
    },
    "id": "jhfMozMrqjKb",
    "outputId": "76b8fff0-061c-40de-fd07-7b90b52968d8"
   },
   "outputs": [
    {
     "name": "stdout",
     "output_type": "stream",
     "text": [
      "              precision    recall  f1-score   support\n",
      "\n",
      "           0       0.83      0.95      0.89       426\n",
      "           1       0.96      0.85      0.90       553\n",
      "\n",
      "    accuracy                           0.89       979\n",
      "   macro avg       0.89      0.90      0.89       979\n",
      "weighted avg       0.90      0.89      0.89       979\n",
      "\n"
     ]
    }
   ],
   "source": [
    "print(classification_report(y_test, y_pred))"
   ]
  },
  {
   "cell_type": "code",
   "execution_count": 53,
   "metadata": {
    "colab": {
     "base_uri": "https://localhost:8080/",
     "height": 296
    },
    "id": "qVauSe_ItMOi",
    "outputId": "c8a8092a-de85-498e-85d8-3a30121b1d46"
   },
   "outputs": [
    {
     "data": {
      "text/plain": [
       "<sklearn.metrics._plot.confusion_matrix.ConfusionMatrixDisplay at 0x2348a1de490>"
      ]
     },
     "execution_count": 53,
     "metadata": {},
     "output_type": "execute_result"
    },
    {
     "data": {
      "image/png": "[encoded data removed]",
      "text/plain": [
       "<Figure size 432x288 with 2 Axes>"
      ]
     },
     "metadata": {
      "needs_background": "light"
     },
     "output_type": "display_data"
    }
   ],
   "source": [
    "plot_confusion_matrix(xgb_cl, X_test, y_test, values_format='d',\n",
    "                      display_labels=['not placed', 'placed'])"
   ]
  },
  {
   "cell_type": "markdown",
   "metadata": {
    "id": "XfA0ni2643PI"
   },
   "source": [
    "With default prarmeters XGBoost gave us 87% accuracy which is very good, and lets optimize."
   ]
  },
  {
   "cell_type": "markdown",
   "metadata": {
    "id": "JBYGVpSF4i5V"
   },
   "source": [
    "## Optimizing XGBoost using GridSearchCV"
   ]
  },
  {
   "cell_type": "code",
   "execution_count": 54,
   "metadata": {
    "id": "NZTESRj5tMcy"
   },
   "outputs": [],
   "source": [
    "# param_grid = {\n",
    "#             'max_depth':[3, 4, 5],\n",
    "#             'learning_rate':[0.01, 0.013, 0.15, 0.2],\n",
    "#             'gamma':[0, 0.1, 0.25, 0.5],\n",
    "#             'reg_lamda':[0, 0.25, 0.5, 1],\n",
    "#             'scale_pos_weight':[1, 3, 5],\n",
    "#             'subsample': [0.5, 0.75, 0.9]\n",
    "# }"
   ]
  },
  {
   "cell_type": "code",
   "execution_count": 55,
   "metadata": {
    "id": "PhzKP_UWu2eC"
   },
   "outputs": [],
   "source": [
    "# kfold = KFold(10)"
   ]
  },
  {
   "cell_type": "code",
   "execution_count": 56,
   "metadata": {
    "id": "7rXpNOeRu2iy"
   },
   "outputs": [],
   "source": [
    "# optimal_params = GridSearchCV(xgb.XGBClassifier(objective='binary:logistic', missing=None, seed=0, subsample=0.9, colsample_bytree=0.5),\n",
    "#                             param_grid=param_grid,\n",
    "#                             verbose=0,\n",
    "#                             n_jobs=-1,\n",
    "#                             cv=5)"
   ]
  },
  {
   "cell_type": "code",
   "execution_count": 57,
   "metadata": {
    "id": "xECTWShVvuXr"
   },
   "outputs": [],
   "source": [
    "# optimal_params.get_params"
   ]
  },
  {
   "cell_type": "code",
   "execution_count": 58,
   "metadata": {
    "id": "DJ0JAKqdvubq"
   },
   "outputs": [],
   "source": [
    "# optimal_params.fit(X_train, y_train)\n",
    "# print(optimal_params.best_score_)\n",
    "# print(optimal_params.best_params_)\n",
    "# print(optimal_params.best_estimator_)"
   ]
  },
  {
   "cell_type": "code",
   "execution_count": 59,
   "metadata": {
    "colab": {
     "base_uri": "https://localhost:8080/"
    },
    "id": "LaeRLjpIQ3H6",
    "outputId": "65363059-72e0-4d1d-8b65-dbbc6e066ef9"
   },
   "outputs": [
    {
     "name": "stdout",
     "output_type": "stream",
     "text": [
      "[11:14:11] WARNING: C:/Users/Administrator/workspace/xgboost-win64_release_1.4.0/src/learner.cc:573: \n",
      "Parameters: { \"reg_lamda\" } might not be used.\n",
      "\n",
      "  This may not be accurate due to some parameters are only used in language bindings but\n",
      "  passed down to XGBoost core.  Or some parameters are not used but slip through this\n",
      "  verification. Please open an issue if you find above cases.\n",
      "\n",
      "\n",
      "[0]\tvalidation_0-auc:0.86194\n",
      "[1]\tvalidation_0-auc:0.88097\n",
      "[2]\tvalidation_0-auc:0.92053\n",
      "[3]\tvalidation_0-auc:0.91979\n",
      "[4]\tvalidation_0-auc:0.92001\n",
      "[5]\tvalidation_0-auc:0.92303\n",
      "[6]\tvalidation_0-auc:0.92356\n",
      "[7]\tvalidation_0-auc:0.92338\n",
      "[8]\tvalidation_0-auc:0.92386\n",
      "[9]\tvalidation_0-auc:0.92498\n",
      "[10]\tvalidation_0-auc:0.92483\n",
      "[11]\tvalidation_0-auc:0.92514\n",
      "[12]\tvalidation_0-auc:0.92678\n",
      "[13]\tvalidation_0-auc:0.92570\n",
      "[14]\tvalidation_0-auc:0.92479\n",
      "[15]\tvalidation_0-auc:0.92487\n",
      "[16]\tvalidation_0-auc:0.92409\n",
      "[17]\tvalidation_0-auc:0.92414\n",
      "[18]\tvalidation_0-auc:0.92430\n",
      "[19]\tvalidation_0-auc:0.92415\n",
      "[20]\tvalidation_0-auc:0.92322\n",
      "[21]\tvalidation_0-auc:0.92329\n",
      "[22]\tvalidation_0-auc:0.92272\n",
      "[23]\tvalidation_0-auc:0.92226\n",
      "[24]\tvalidation_0-auc:0.92262\n",
      "[25]\tvalidation_0-auc:0.92362\n",
      "[26]\tvalidation_0-auc:0.92394\n",
      "[27]\tvalidation_0-auc:0.92381\n",
      "[28]\tvalidation_0-auc:0.92454\n",
      "[29]\tvalidation_0-auc:0.92468\n",
      "[30]\tvalidation_0-auc:0.92453\n",
      "[31]\tvalidation_0-auc:0.92479\n"
     ]
    },
    {
     "name": "stderr",
     "output_type": "stream",
     "text": [
      "C:\\Users\\Kaushik Pal\\anaconda3\\lib\\site-packages\\xgboost\\sklearn.py:1146: UserWarning: The use of label encoder in XGBClassifier is deprecated and will be removed in a future release. To remove this warning, do the following: 1) Pass option use_label_encoder=False when constructing XGBClassifier object; and 2) Encode your labels (y) as integers starting with 0, i.e. 0, 1, 2, ..., [num_class - 1].\n",
      "  warnings.warn(label_encoder_deprecation_msg, UserWarning)\n"
     ]
    },
    {
     "data": {
      "text/plain": [
       "XGBClassifier(base_score=0.5, booster='gbtree', colsample_bylevel=1,\n",
       "              colsample_bynode=1, colsample_bytree=0.5, gamma=0, gpu_id=-1,\n",
       "              importance_type='gain', interaction_constraints='',\n",
       "              learning_rate=0.01, max_delta_step=0, max_depth=3,\n",
       "              min_child_weight=1, missing=1, monotone_constraints='()',\n",
       "              n_estimators=100, n_jobs=4, num_parallel_tree=1, random_state=0,\n",
       "              reg_alpha=0, reg_lambda=1, reg_lamda=0, scale_pos_weight=1,\n",
       "              seed=0, subsample=0.5, tree_method='exact', validate_parameters=1,\n",
       "              verbosity=None)"
      ]
     },
     "execution_count": 59,
     "metadata": {},
     "output_type": "execute_result"
    }
   ],
   "source": [
    "xgb_cl = xgb.XGBClassifier(base_score=0.5, booster='gbtree', colsample_bylevel=1,\n",
    "              colsample_bynode=1, colsample_bytree=0.5, gamma=0, gpu_id=-1,\n",
    "              importance_type='gain', interaction_constraints='',\n",
    "              learning_rate=0.01, max_delta_step=0, max_depth=3,\n",
    "              min_child_weight=1, missing=1, monotone_constraints='()',\n",
    "              n_estimators=100, n_jobs=4, num_parallel_tree=1, random_state=0,\n",
    "              reg_alpha=0, reg_lambda=1, reg_lamda=0, scale_pos_weight=1,\n",
    "              seed=0, subsample=0.5, tree_method='exact', validate_parameters=1,\n",
    "              verbosity=None)\n",
    "\n",
    "xgb_cl.fit(X_train, y_train, verbose=True, eval_metric='auc', eval_set=[(X_test, y_test)],\n",
    "           early_stopping_rounds=20)"
   ]
  },
  {
   "cell_type": "code",
   "execution_count": 60,
   "metadata": {},
   "outputs": [],
   "source": [
    "y_pred = xgb_cl.predict(X_test)"
   ]
  },
  {
   "cell_type": "code",
   "execution_count": 61,
   "metadata": {
    "colab": {
     "base_uri": "https://localhost:8080/",
     "height": 609
    },
    "id": "bS1Q4-XBQ3Wp",
    "outputId": "5ff14566-2a75-4474-c323-81eef036bcd9"
   },
   "outputs": [
    {
     "name": "stdout",
     "output_type": "stream",
     "text": [
      "              precision    recall  f1-score   support\n",
      "\n",
      "           0       0.79      0.97      0.87       426\n",
      "           1       0.97      0.81      0.88       553\n",
      "\n",
      "    accuracy                           0.88       979\n",
      "   macro avg       0.88      0.89      0.88       979\n",
      "weighted avg       0.90      0.88      0.88       979\n",
      "\n"
     ]
    },
    {
     "data": {
      "text/plain": [
       "<sklearn.metrics._plot.confusion_matrix.ConfusionMatrixDisplay at 0x2348a4e2730>"
      ]
     },
     "execution_count": 61,
     "metadata": {},
     "output_type": "execute_result"
    },
    {
     "data": {
      "image/png": "[encoded data removed]",
      "text/plain": [
       "<Figure size 432x288 with 2 Axes>"
      ]
     },
     "metadata": {
      "needs_background": "light"
     },
     "output_type": "display_data"
    }
   ],
   "source": [
    "print(classification_report(y_test, y_pred))\n",
    "plot_confusion_matrix(xgb_cl, X_test, y_test, values_format='d',\n",
    "                      display_labels=['not placed', 'placed'])"
   ]
  },
  {
   "cell_type": "markdown",
   "metadata": {
    "id": "Oajq3EEp4t-M"
   },
   "source": [
    "So after using gridSearchCV our model did not perform any better."
   ]
  },
  {
   "cell_type": "markdown",
   "metadata": {
    "id": "i7lHgtNG6_OU"
   },
   "source": [
    "## Saving Model"
   ]
  },
  {
   "cell_type": "code",
   "execution_count": 62,
   "metadata": {
    "id": "LsNU5FA57D7k"
   },
   "outputs": [],
   "source": [
    "model_name = 'xgboost_clasifier.sav'\n",
    "model = xgb_cl"
   ]
  },
  {
   "cell_type": "code",
   "execution_count": 63,
   "metadata": {
    "colab": {
     "base_uri": "https://localhost:8080/"
    },
    "id": "QabJKki_7D_i",
    "outputId": "89e75599-ed53-4fab-eaff-7e9c1d4e06e0"
   },
   "outputs": [
    {
     "data": {
      "text/plain": [
       "['model/xgboost_clasifier.sav']"
      ]
     },
     "execution_count": 63,
     "metadata": {},
     "output_type": "execute_result"
    }
   ],
   "source": [
    "joblib.dump(xgb_cl, fr'model/{model_name}')"
   ]
  },
  {
   "cell_type": "markdown",
   "metadata": {
    "id": "8XFRw4xu8n6y"
   },
   "source": [
    "# Conslusion\n",
    "successfully completed this project. Performed EDA, FE, applying models, optimizing models using gridSearchCV. \n",
    "\n",
    "If anyone want to contribute to this project, Just write a good description with your PR gladly i will merge.\n",
    "\n",
    "Thank You"
   ]
  }
 ],
 "metadata": {
  "colab": {
   "collapsed_sections": [],
   "name": "Engineering Placements Prediction.ipynb",
   "provenance": []
  },
  "kernelspec": {
   "display_name": "Python 3 (ipykernel)",
   "language": "python",
   "name": "python3"
  },
  "language_info": {
   "codemirror_mode": {
    "name": "ipython",
    "version": 3
   },
   "file_extension": ".py",
   "mimetype": "text/x-python",
   "name": "python",
   "nbconvert_exporter": "python",
   "pygments_lexer": "ipython3",
   "version": "3.8.12"
  }
 },
 "nbformat": 4,
 "nbformat_minor": 1
}
